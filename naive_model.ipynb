{
 "cells": [
  {
   "cell_type": "markdown",
   "id": "c6b6718d",
   "metadata": {},
   "source": [
    "IMPORTS"
   ]
  },
  {
   "cell_type": "code",
   "execution_count": 1,
   "id": "4a669fa7",
   "metadata": {},
   "outputs": [],
   "source": [
    "import pandas as pd\n",
    "import matplotlib.pyplot as plt\n",
    "import numpy as np\n",
    "import random\n",
    "import re\n",
    "import lib.tools as t"
   ]
  },
  {
   "cell_type": "raw",
   "id": "9908d0c4",
   "metadata": {},
   "source": [
    "LOADS"
   ]
  },
  {
   "cell_type": "code",
   "execution_count": 2,
   "id": "625f382f",
   "metadata": {},
   "outputs": [
    {
     "name": "stdout",
     "output_type": "stream",
     "text": [
      "Reading public_data/Areal_train from AutoML format\n",
      "Number of examples = 5200\n",
      "Number of features = 49152\n",
      "        Class\n",
      "0       beach\n",
      "1   chaparral\n",
      "2       cloud\n",
      "3      desert\n",
      "4      forest\n",
      "5      island\n",
      "6        lake\n",
      "7      meadow\n",
      "8    mountain\n",
      "9       river\n",
      "10        sea\n",
      "11   snowberg\n",
      "12    wetland\n",
      "Number of classes = 13\n"
     ]
    }
   ],
   "source": [
    "from sys import path;\n",
    "path.append('ingestion_program/')\n",
    "\n",
    "data_dir = 'public_data'\n",
    "data_name = 'Areal'\n",
    "\n",
    "from ingestion_program.data_io import read_as_df\n",
    "data = read_as_df(data_dir  + '/' + data_name)"
   ]
  },
  {
   "cell_type": "code",
   "execution_count": null,
   "id": "2d44ac84",
   "metadata": {},
   "outputs": [],
   "source": []
  },
  {
   "cell_type": "code",
   "execution_count": 3,
   "id": "71de5527",
   "metadata": {},
   "outputs": [],
   "source": [
    "ys=[data.iloc[i][-1] for i in range(4000)]\n",
    "xs=[list(data.iloc[i][:-1]) for i in range(4000)]"
   ]
  },
  {
   "cell_type": "code",
   "execution_count": 4,
   "id": "f0901bd1",
   "metadata": {},
   "outputs": [
    {
     "data": {
      "image/png": "[encoded data removed]",
      "text/plain": [
       "<Figure size 640x480 with 1 Axes>"
      ]
     },
     "metadata": {
      "needs_background": "light"
     },
     "output_type": "display_data"
    }
   ],
   "source": [
    "t.repartition(ys)"
   ]
  },
  {
   "cell_type": "markdown",
   "id": "dd6840a0",
   "metadata": {},
   "source": [
    "data scaling"
   ]
  },
  {
   "cell_type": "code",
   "execution_count": 5,
   "id": "d1084fcc",
   "metadata": {},
   "outputs": [],
   "source": [
    "from sklearn.preprocessing import MinMaxScaler,StandardScaler"
   ]
  },
  {
   "cell_type": "code",
   "execution_count": 6,
   "id": "3f190205",
   "metadata": {},
   "outputs": [],
   "source": [
    "#scaler=MinMaxScaler()\n",
    "scaler=StandardScaler()\n",
    "xss=scaler.fit_transform(xs)"
   ]
  },
  {
   "cell_type": "markdown",
   "id": "78901a32",
   "metadata": {},
   "source": [
    "split"
   ]
  },
  {
   "cell_type": "code",
   "execution_count": 7,
   "id": "f879f5e5",
   "metadata": {},
   "outputs": [],
   "source": [
    "from sklearn.model_selection import train_test_split\n",
    "x_train, x_test, y_train, y_test = train_test_split(\n",
    "        xss, ys, test_size=0.2)"
   ]
  },
  {
   "cell_type": "code",
   "execution_count": 8,
   "id": "40fd3662",
   "metadata": {},
   "outputs": [],
   "source": [
    "from sklearn.decomposition import PCA"
   ]
  },
  {
   "cell_type": "code",
   "execution_count": 9,
   "id": "c783a096",
   "metadata": {},
   "outputs": [],
   "source": [
    "pca=PCA(20)\n",
    "xr_train=pca.fit_transform(x_train)\n",
    "xr_test=pca.transform(x_test)"
   ]
  },
  {
   "cell_type": "markdown",
   "id": "23fb88d4",
   "metadata": {},
   "source": [
    "Grid Search"
   ]
  },
  {
   "cell_type": "code",
   "execution_count": 10,
   "id": "00eaef40",
   "metadata": {},
   "outputs": [],
   "source": [
    "from sklearn.svm import SVC\n",
    "from sklearn.model_selection import GridSearchCV\n",
    "from sklearn.naive_bayes import GaussianNB"
   ]
  },
  {
   "cell_type": "code",
   "execution_count": 11,
   "id": "60daad7e",
   "metadata": {},
   "outputs": [
    {
     "data": {
      "text/plain": [
       "GridSearchCV(estimator=SVC(),\n",
       "             param_grid=[{'C': array([ 0.1       ,  2.31111111,  4.52222222,  6.73333333,  8.94444444,\n",
       "       11.15555556, 13.36666667, 15.57777778, 17.78888889, 20.        ]),\n",
       "                          'gamma': array([1.00000e-06, 1.11112e-01, 2.22223e-01, 3.33334e-01, 4.44445e-01,\n",
       "       5.55556e-01, 6.66667e-01, 7.77778e-01, 8.88889e-01, 1.00000e+00]),\n",
       "                          'kernel': ['rbf']}])"
      ]
     },
     "execution_count": 11,
     "metadata": {},
     "output_type": "execute_result"
    }
   ],
   "source": [
    "model=SVC()\n",
    "kernel=['rbf']\n",
    "gamma=np.linspace(1e-6,1,10)\n",
    "C=np.linspace(0.1,20,10)\n",
    "params=[{'gamma':gamma,'C':C,'kernel':kernel}]\n",
    "search=GridSearchCV(model,params)\n",
    "search.fit(xr_train,y_train)"
   ]
  },
  {
   "cell_type": "code",
   "execution_count": 12,
   "id": "70f4b1a9",
   "metadata": {},
   "outputs": [
    {
     "data": {
      "text/plain": [
       "0.56625"
      ]
     },
     "execution_count": 12,
     "metadata": {},
     "output_type": "execute_result"
    }
   ],
   "source": [
    "best=search.best_estimator_\n",
    "best.score(xr_test,y_test)"
   ]
  },
  {
   "cell_type": "code",
   "execution_count": null,
   "id": "78eeabb6",
   "metadata": {},
   "outputs": [],
   "source": []
  },
  {
   "cell_type": "markdown",
   "id": "b0cf52f4",
   "metadata": {},
   "source": [
    "the grid search gives us C=5 gamma=0.0001 with a rbf kernel"
   ]
  },
  {
   "cell_type": "markdown",
   "id": "6f6c2b2c",
   "metadata": {},
   "source": [
    "results"
   ]
  },
  {
   "cell_type": "code",
   "execution_count": 23,
   "id": "2bb0ccc2",
   "metadata": {},
   "outputs": [
    {
     "name": "stderr",
     "output_type": "stream",
     "text": [
      "/home/come/anaconda3/lib/python3.8/site-packages/sklearn/svm/_base.py:246: ConvergenceWarning: Solver terminated early (max_iter=400).  Consider pre-processing your data with StandardScaler or MinMaxScaler.\n",
      "  warnings.warn('Solver terminated early (max_iter=%i).'\n"
     ]
    },
    {
     "data": {
      "text/plain": [
       "0.6075"
      ]
     },
     "execution_count": 23,
     "metadata": {},
     "output_type": "execute_result"
    }
   ],
   "source": [
    "vali=SVC(C=5,gamma=0.0001,max_iter=400)\n",
    "vali.fit(xr_train,y_train)\n",
    "y_pred=vali.predict(xr_test)\n",
    "vali.score(xr_test,y_test)"
   ]
  },
  {
   "cell_type": "code",
   "execution_count": 14,
   "id": "52b71ca5",
   "metadata": {},
   "outputs": [
    {
     "data": {
      "image/png": "[encoded data removed]",
      "text/plain": [
       "<Figure size 640x480 with 1 Axes>"
      ]
     },
     "metadata": {
      "needs_background": "light"
     },
     "output_type": "display_data"
    }
   ],
   "source": [
    "t.true_pred(y_pred,y_test)"
   ]
  },
  {
   "cell_type": "code",
   "execution_count": 16,
   "id": "54f86db9",
   "metadata": {},
   "outputs": [
    {
     "data": {
      "text/plain": [
       "array([[37,  1,  5,  1,  0,  1,  0,  0,  4,  2,  1, 11,  0],\n",
       "       [ 1, 40,  0,  6,  3,  0,  3,  0,  1,  1,  0,  0,  2],\n",
       "       [ 5,  0, 27,  0,  0,  3,  1,  0,  0,  2,  3, 24,  3],\n",
       "       [ 0,  5,  0, 51,  0,  0,  0,  0,  2,  0,  0,  0,  0],\n",
       "       [ 0,  0,  1,  0, 49,  0,  1,  2,  1,  0,  0,  0,  7],\n",
       "       [ 2,  0,  3,  0,  0, 61,  0,  0,  0,  2,  5,  3,  0],\n",
       "       [ 1,  2,  1,  1,  3,  2, 27,  3,  9,  5,  1,  3,  2],\n",
       "       [ 0,  0,  0,  0,  0,  0,  0, 48,  2,  0,  0,  0,  3],\n",
       "       [ 3,  9,  0,  4,  2,  0,  2,  9, 21,  7,  0,  0,  9],\n",
       "       [ 0,  0,  5,  0,  3,  1,  3,  4,  5, 27,  5,  4,  4],\n",
       "       [ 4,  0,  9,  1,  0,  3,  1,  0,  0,  2, 32,  1,  0],\n",
       "       [12,  0, 10,  0,  0,  0,  1,  0,  0,  0,  0, 35,  0],\n",
       "       [ 1,  1,  0,  0, 21,  1,  4,  4,  2,  0,  1,  0, 31]])"
      ]
     },
     "execution_count": 16,
     "metadata": {},
     "output_type": "execute_result"
    }
   ],
   "source": [
    "from sklearn.metrics import confusion_matrix\n",
    "confusion_matrix(y_test, y_pred, labels=None, sample_weight=None, normalize=None)"
   ]
  },
  {
   "cell_type": "code",
   "execution_count": 17,
   "id": "999b6f00",
   "metadata": {},
   "outputs": [],
   "source": [
    "from sklearn.model_selection import cross_val_score"
   ]
  },
  {
   "cell_type": "code",
   "execution_count": 18,
   "id": "0a3b5495",
   "metadata": {},
   "outputs": [],
   "source": [
    "scores = cross_val_score(SVC(C=5,gamma=0.0001), pca.transform(xss),ys,cv=10)"
   ]
  },
  {
   "cell_type": "code",
   "execution_count": 19,
   "id": "e39d2976",
   "metadata": {},
   "outputs": [
    {
     "data": {
      "text/plain": [
       "0.62975"
      ]
     },
     "execution_count": 19,
     "metadata": {},
     "output_type": "execute_result"
    }
   ],
   "source": [
    "scores.mean()"
   ]
  },
  {
   "cell_type": "code",
   "execution_count": null,
   "id": "d3f57f98",
   "metadata": {},
   "outputs": [],
   "source": []
  },
  {
   "cell_type": "code",
   "execution_count": null,
   "id": "ea93cf56",
   "metadata": {},
   "outputs": [],
   "source": []
  },
  {
   "cell_type": "code",
   "execution_count": null,
   "id": "32381da4",
   "metadata": {},
   "outputs": [],
   "source": []
  },
  {
   "cell_type": "code",
   "execution_count": null,
   "id": "3487c6af",
   "metadata": {},
   "outputs": [],
   "source": []
  },
  {
   "cell_type": "code",
   "execution_count": null,
   "id": "9d75df06",
   "metadata": {},
   "outputs": [],
   "source": []
  },
  {
   "cell_type": "code",
   "execution_count": null,
   "id": "c05ed1a5",
   "metadata": {},
   "outputs": [],
   "source": []
  }
 ],
 "metadata": {
  "kernelspec": {
   "display_name": "Python 3",
   "language": "python",
   "name": "python3"
  },
  "language_info": {
   "codemirror_mode": {
    "name": "ipython",
    "version": 3
   },
   "file_extension": ".py",
   "mimetype": "text/x-python",
   "name": "python",
   "nbconvert_exporter": "python",
   "pygments_lexer": "ipython3",
   "version": "3.8.8"
  }
 },
 "nbformat": 4,
 "nbformat_minor": 5
}
